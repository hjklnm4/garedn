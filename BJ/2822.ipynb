{
 "cells": [
  {
   "cell_type": "code",
   "execution_count": 23,
   "metadata": {},
   "outputs": [
    {
     "name": "stdout",
     "output_type": "stream",
     "text": [
      "20\n",
      "30\n",
      "50\n",
      "48\n",
      "33\n",
      "66\n",
      "0\n",
      "64\n",
      "261\n",
      "34568"
     ]
    }
   ],
   "source": [
    "x = []\n",
    "y =0\n",
    "result = []\n",
    "for i in range(8):\n",
    "    x.append(int(input()))\n",
    "    z = sorted(x , reverse=True)\n",
    "for q in range(5):\n",
    "    y += z[q]\n",
    "    result.append(x.index(z[q])+1)\n",
    "result=sorted(result)\n",
    "print(y)\n",
    "for i in result:\n",
    "    print(i, end =' ')"
   ]
  },
  {
   "cell_type": "code",
   "execution_count": null,
   "metadata": {},
   "outputs": [],
   "source": []
  }
 ],
 "metadata": {
  "kernelspec": {
   "display_name": "Python 3",
   "language": "python",
   "name": "python3"
  }
 },
 "nbformat": 4,
 "nbformat_minor": 4
}
