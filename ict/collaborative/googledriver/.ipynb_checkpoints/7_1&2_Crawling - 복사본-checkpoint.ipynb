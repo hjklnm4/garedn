{
 "cells": [
  {
   "cell_type": "markdown",
   "metadata": {},
   "source": [
    "# 7.1  데이터 수집 1 – 한 페이지 크롤링"
   ]
  },
  {
   "cell_type": "markdown",
   "metadata": {},
   "source": [
    "### 7.1.2 다나와 검색 페이지 접속"
   ]
  },
  {
   "cell_type": "code",
   "execution_count": 1,
   "metadata": {
    "scrolled": false
   },
   "outputs": [],
   "source": [
    "# 예제 7-1 selenium으로 다나와 검색 결과 URL에 접속\n",
    "from selenium import webdriver\n",
    "driver = webdriver.Chrome('./chromedriver.exe')\n",
    "url = \"http://search.danawa.com/dsearch.php?query=복합기&tab=main\"\n",
    "driver.get(url)"
   ]
  },
  {
   "cell_type": "markdown",
   "metadata": {},
   "source": [
    "### 7.1.3 다나와 검색 웹 페이지에서 상품 정보 가져오기"
   ]
  },
  {
   "cell_type": "code",
   "execution_count": 2,
   "metadata": {},
   "outputs": [
    {
     "ename": "WebDriverException",
     "evalue": "Message: chrome not reachable\n  (Session info: chrome=89.0.4389.90)\n",
     "output_type": "error",
     "traceback": [
      "\u001b[1;31m---------------------------------------------------------------------------\u001b[0m",
      "\u001b[1;31mWebDriverException\u001b[0m                        Traceback (most recent call last)",
      "\u001b[1;32m<ipython-input-2-0e64e088d7bc>\u001b[0m in \u001b[0;36m<module>\u001b[1;34m\u001b[0m\n\u001b[0;32m      2\u001b[0m \u001b[1;33m\u001b[0m\u001b[0m\n\u001b[0;32m      3\u001b[0m \u001b[1;31m# 예제 7-2 웹 페이지의 HTML 정보 가져오기\u001b[0m\u001b[1;33m\u001b[0m\u001b[1;33m\u001b[0m\u001b[1;33m\u001b[0m\u001b[0m\n\u001b[1;32m----> 4\u001b[1;33m \u001b[0mhtml\u001b[0m \u001b[1;33m=\u001b[0m \u001b[0mdriver\u001b[0m\u001b[1;33m.\u001b[0m\u001b[0mpage_source\u001b[0m\u001b[1;33m\u001b[0m\u001b[1;33m\u001b[0m\u001b[0m\n\u001b[0m\u001b[0;32m      5\u001b[0m \u001b[0msoup\u001b[0m \u001b[1;33m=\u001b[0m \u001b[0mBeautifulSoup\u001b[0m\u001b[1;33m(\u001b[0m\u001b[0mhtml\u001b[0m\u001b[1;33m,\u001b[0m \u001b[1;34m'html.parser'\u001b[0m\u001b[1;33m)\u001b[0m\u001b[1;33m\u001b[0m\u001b[1;33m\u001b[0m\u001b[0m\n",
      "\u001b[1;32mC:\\anaconda\\lib\\site-packages\\selenium\\webdriver\\remote\\webdriver.py\u001b[0m in \u001b[0;36mpage_source\u001b[1;34m(self)\u001b[0m\n\u001b[0;32m    677\u001b[0m             \u001b[0mdriver\u001b[0m\u001b[1;33m.\u001b[0m\u001b[0mpage_source\u001b[0m\u001b[1;33m\u001b[0m\u001b[1;33m\u001b[0m\u001b[0m\n\u001b[0;32m    678\u001b[0m         \"\"\"\n\u001b[1;32m--> 679\u001b[1;33m         \u001b[1;32mreturn\u001b[0m \u001b[0mself\u001b[0m\u001b[1;33m.\u001b[0m\u001b[0mexecute\u001b[0m\u001b[1;33m(\u001b[0m\u001b[0mCommand\u001b[0m\u001b[1;33m.\u001b[0m\u001b[0mGET_PAGE_SOURCE\u001b[0m\u001b[1;33m)\u001b[0m\u001b[1;33m[\u001b[0m\u001b[1;34m'value'\u001b[0m\u001b[1;33m]\u001b[0m\u001b[1;33m\u001b[0m\u001b[1;33m\u001b[0m\u001b[0m\n\u001b[0m\u001b[0;32m    680\u001b[0m \u001b[1;33m\u001b[0m\u001b[0m\n\u001b[0;32m    681\u001b[0m     \u001b[1;32mdef\u001b[0m \u001b[0mclose\u001b[0m\u001b[1;33m(\u001b[0m\u001b[0mself\u001b[0m\u001b[1;33m)\u001b[0m\u001b[1;33m:\u001b[0m\u001b[1;33m\u001b[0m\u001b[1;33m\u001b[0m\u001b[0m\n",
      "\u001b[1;32mC:\\anaconda\\lib\\site-packages\\selenium\\webdriver\\remote\\webdriver.py\u001b[0m in \u001b[0;36mexecute\u001b[1;34m(self, driver_command, params)\u001b[0m\n\u001b[0;32m    319\u001b[0m         \u001b[0mresponse\u001b[0m \u001b[1;33m=\u001b[0m \u001b[0mself\u001b[0m\u001b[1;33m.\u001b[0m\u001b[0mcommand_executor\u001b[0m\u001b[1;33m.\u001b[0m\u001b[0mexecute\u001b[0m\u001b[1;33m(\u001b[0m\u001b[0mdriver_command\u001b[0m\u001b[1;33m,\u001b[0m \u001b[0mparams\u001b[0m\u001b[1;33m)\u001b[0m\u001b[1;33m\u001b[0m\u001b[1;33m\u001b[0m\u001b[0m\n\u001b[0;32m    320\u001b[0m         \u001b[1;32mif\u001b[0m \u001b[0mresponse\u001b[0m\u001b[1;33m:\u001b[0m\u001b[1;33m\u001b[0m\u001b[1;33m\u001b[0m\u001b[0m\n\u001b[1;32m--> 321\u001b[1;33m             \u001b[0mself\u001b[0m\u001b[1;33m.\u001b[0m\u001b[0merror_handler\u001b[0m\u001b[1;33m.\u001b[0m\u001b[0mcheck_response\u001b[0m\u001b[1;33m(\u001b[0m\u001b[0mresponse\u001b[0m\u001b[1;33m)\u001b[0m\u001b[1;33m\u001b[0m\u001b[1;33m\u001b[0m\u001b[0m\n\u001b[0m\u001b[0;32m    322\u001b[0m             response['value'] = self._unwrap_value(\n\u001b[0;32m    323\u001b[0m                 response.get('value', None))\n",
      "\u001b[1;32mC:\\anaconda\\lib\\site-packages\\selenium\\webdriver\\remote\\errorhandler.py\u001b[0m in \u001b[0;36mcheck_response\u001b[1;34m(self, response)\u001b[0m\n\u001b[0;32m    240\u001b[0m                 \u001b[0malert_text\u001b[0m \u001b[1;33m=\u001b[0m \u001b[0mvalue\u001b[0m\u001b[1;33m[\u001b[0m\u001b[1;34m'alert'\u001b[0m\u001b[1;33m]\u001b[0m\u001b[1;33m.\u001b[0m\u001b[0mget\u001b[0m\u001b[1;33m(\u001b[0m\u001b[1;34m'text'\u001b[0m\u001b[1;33m)\u001b[0m\u001b[1;33m\u001b[0m\u001b[1;33m\u001b[0m\u001b[0m\n\u001b[0;32m    241\u001b[0m             \u001b[1;32mraise\u001b[0m \u001b[0mexception_class\u001b[0m\u001b[1;33m(\u001b[0m\u001b[0mmessage\u001b[0m\u001b[1;33m,\u001b[0m \u001b[0mscreen\u001b[0m\u001b[1;33m,\u001b[0m \u001b[0mstacktrace\u001b[0m\u001b[1;33m,\u001b[0m \u001b[0malert_text\u001b[0m\u001b[1;33m)\u001b[0m\u001b[1;33m\u001b[0m\u001b[1;33m\u001b[0m\u001b[0m\n\u001b[1;32m--> 242\u001b[1;33m         \u001b[1;32mraise\u001b[0m \u001b[0mexception_class\u001b[0m\u001b[1;33m(\u001b[0m\u001b[0mmessage\u001b[0m\u001b[1;33m,\u001b[0m \u001b[0mscreen\u001b[0m\u001b[1;33m,\u001b[0m \u001b[0mstacktrace\u001b[0m\u001b[1;33m)\u001b[0m\u001b[1;33m\u001b[0m\u001b[1;33m\u001b[0m\u001b[0m\n\u001b[0m\u001b[0;32m    243\u001b[0m \u001b[1;33m\u001b[0m\u001b[0m\n\u001b[0;32m    244\u001b[0m     \u001b[1;32mdef\u001b[0m \u001b[0m_value_or_default\u001b[0m\u001b[1;33m(\u001b[0m\u001b[0mself\u001b[0m\u001b[1;33m,\u001b[0m \u001b[0mobj\u001b[0m\u001b[1;33m,\u001b[0m \u001b[0mkey\u001b[0m\u001b[1;33m,\u001b[0m \u001b[0mdefault\u001b[0m\u001b[1;33m)\u001b[0m\u001b[1;33m:\u001b[0m\u001b[1;33m\u001b[0m\u001b[1;33m\u001b[0m\u001b[0m\n",
      "\u001b[1;31mWebDriverException\u001b[0m: Message: chrome not reachable\n  (Session info: chrome=89.0.4389.90)\n"
     ]
    }
   ],
   "source": [
    "from bs4 import BeautifulSoup\n",
    "\n",
    "# 예제 7-2 웹 페이지의 HTML 정보 가져오기\n",
    "html = driver.page_source\n",
    "soup = BeautifulSoup(html, 'html.parser')"
   ]
  },
  {
   "cell_type": "code",
   "execution_count": 37,
   "metadata": {},
   "outputs": [
    {
     "data": {
      "text/plain": [
       "44"
      ]
     },
     "execution_count": 37,
     "metadata": {},
     "output_type": "execute_result"
    }
   ],
   "source": [
    "# 예제 7-3 1페이지에 대한 무선청소기 정보 가져오기 1\n",
    "prod_items = soup.select('li.prod_item')\n",
    "len(prod_items)"
   ]
  },
  {
   "cell_type": "code",
   "execution_count": 38,
   "metadata": {
    "scrolled": true
   },
   "outputs": [
    {
     "data": {
      "text/plain": [
       "44"
      ]
     },
     "execution_count": 38,
     "metadata": {},
     "output_type": "execute_result"
    }
   ],
   "source": [
    "# 예제 7-4 1페이지에 대한 무선청소기 정보 가져오기 2\n",
    "prod_items = soup.select('ul.product_list > li.prod_item')\n",
    "len(prod_items)"
   ]
  },
  {
   "cell_type": "code",
   "execution_count": 39,
   "metadata": {},
   "outputs": [
    {
     "data": {
      "text/plain": [
       "44"
      ]
     },
     "execution_count": 39,
     "metadata": {},
     "output_type": "execute_result"
    }
   ],
   "source": [
    "# 예제 7-5 1페이지에 대한 무선청소기 정보 가져오기 3\n",
    "prod_items = soup.select('div.main_prodlist > ul.product_list > li.prod_item')\n",
    "len(prod_items)"
   ]
  },
  {
   "cell_type": "code",
   "execution_count": 40,
   "metadata": {},
   "outputs": [
    {
     "name": "stdout",
     "output_type": "stream",
     "text": [
      "삼성전자 SL-P7500LX\n"
     ]
    }
   ],
   "source": [
    "# 예제 7-6 상품명 정보 가져오기\n",
    "title = prod_items[0].select('p.prod_name > a')[0].text.strip()\n",
    "print(title)"
   ]
  },
  {
   "cell_type": "code",
   "execution_count": 41,
   "metadata": {},
   "outputs": [
    {
     "name": "stdout",
     "output_type": "stream",
     "text": [
      "컬러 디지털 복합기 / 잉크젯 / 인쇄 / 복사 / 스캔 / 컬러 속도: 50ppm / 흑백 속도: 50ppm / 인쇄 해상도: 1200 x 1200dpi / 자동양면인쇄 / 자동급지장치 / 기본 급지용량: 650매 / 최대 4단 용지함 / A3 출력,스캔 / 연속복사: 9999매 / 2GB / 320GB / 컬러터치LCD / 가로: 604mm / 세로: 652mm / 높이: 664mm / 무게: 66.6kg\n"
     ]
    }
   ],
   "source": [
    "# 예제 7-7 스펙 목록 정보 가져오기\n",
    "spec_list = prod_items[0].select('div.spec_list')[0].text.strip()\n",
    "print(spec_list)"
   ]
  },
  {
   "cell_type": "code",
   "execution_count": 42,
   "metadata": {},
   "outputs": [
    {
     "name": "stdout",
     "output_type": "stream",
     "text": [
      "3100000\n"
     ]
    }
   ],
   "source": [
    "# 예제 7-8 가격 정보 가져오기\n",
    "price = prod_items[0].select('li.rank_one > p.price_sect > a > strong')[0].text.strip().replace(\",\",\"\")\n",
    "print(price)"
   ]
  },
  {
   "cell_type": "code",
   "execution_count": 43,
   "metadata": {},
   "outputs": [
    {
     "name": "stdout",
     "output_type": "stream",
     "text": [
      "44\n",
      "[['삼성전자 SL-P7500LX', '컬러 디지털 복합기 / 잉크젯 / 인쇄 / 복사 / 스캔 / 컬러 속도: 50ppm / 흑백 속도: 50ppm / 인쇄 해상도: 1200 x 1200dpi / 자동양면인쇄 / 자동급지장치 / 기본 급지용량: 650매 / 최대 4단 용지함 / A3 출력,스캔 / 연속복사: 9999매 / 2GB / 320GB / 컬러터치LCD / 가로: 604mm / 세로: 652mm / 높이: 664mm / 무게: 66.6kg', '3100000'], ['삼성전자 잉크젯 플러스S 정품 무한 SL-T1672W', '복합기 / 잉크젯 / 컬러 출력 / 복사 / 스캔 / 컬러 속도: 16ppm / 흑백 속도: 20ppm / 인쇄 해상도: 4800 x 1200dpi / 용지함 용량: 100매 / A4 출력 / 카트리지 구성: 흑백1 + 컬러3 / 광학 스캔 해상도: 1200dpi / 연결방식: WiFi / RAM: 256MB / 일반LCD / 월 최대 인쇄량: 1000매 / 가로: 447mm / 세로: 373mm / 높이: 158mm', '201490'], ['yFi1FqpwqJ', 'yFi1FqpwqJ42500', '42500'], ['삼성전자 SL-P7400LX', '컬러 디지털 복합기 / 잉크젯 / 인쇄 / 복사 / 스캔 / 컬러 속도: 40ppm / 흑백 속도: 40ppm / 인쇄 해상도: 1200 x 1200dpi / 자동양면인쇄 / 자동급지장치 / 기본 급지용량: 650매 / 최대 4단 용지함 / A3 출력,스캔 / 연속복사: 9999매 / 2GB / 320GB / 컬러터치LCD / 가로: 604mm / 세로: 652mm / 높이: 664mm / 무게: 66.6kg', '2499950'], ['Brother 정품 무한 DCP-T720DW', '복합기 / 잉크젯 / 컬러 출력 / 복사 / 스캔 / 컬러 속도(ISO): 16.5ipm / 흑백 속도(ISO): 17ipm / 첫 장 인쇄: 6초(컬러 6.5초) / 인쇄 해상도: 1200 x 6000dpi / 자동양면인쇄 / 자동급지장치 / 용지함 용량: 150매 / A4 출력 / 카트리지 구성: 흑백2 + 컬러3 / 광학 스캔 해상도: 1200 x 2400dpi / 연결방식: USB, WiFi / Mac 지원 / 모바일 프린팅 / 에어 프린팅 / 이메일 프린팅 / RAM: 128MB / 일반LCD / 가로: 435mm / 세로: 380mm / 높이: 195mm', '279000'], ['Canon IR C3125', '컬러 디지털 복합기 / 레이저젯 / 인쇄 / 복사 / 스캔 / 컬러 속도: 25ppm / 흑백 속도: 25ppm / 인쇄 해상도: 1200 x 1200dpi / 자동양면인쇄 / 기본 급지용량: 1,200매 / 최대 4단 용지함 / A3 출력 / 연속복사: 999매 / 연결방식: WiFi / SEND기능 / 다이렉트USB / Mac 지원 / 2GB / 컬러터치LCD / 가로: 565mm / 세로: 664mm / 높이: 880mm / 무게: 71.2kg', '1724250'], ['', '', 0], ['삼성전자 SL-C563W', '복합기 / 레이저 / 컬러 출력 / 복사 / 스캔 / 컬러 속도: 4ppm / 흑백 속도: 18ppm / 첫 장 인쇄: 14초(컬러 26초) / 인쇄 해상도: 2400 x 600dpi / 용지함 용량: 150매 / A4 출력 / 카트리지 구성: 흑백1 + 컬러3 / 광학 스캔 해상도: 600dpi / 연결방식: USB, 유선랜(RJ-45), WiFi / Mac 지원 / 모바일 프린팅 / NFC 탑재 / RAM: 128MB / 일반LCD / 월 최대 인쇄량: 20,000매 / 가로: 406mm / 세로: 362mm / 높이: 289mm', '277930'], ['삼성전자 MultiXpress SL-X4225RX', '컬러 디지털 복합기 / 인쇄 / 복사 / 스캔 / 팩스 / 컬러 속도: 22ppm / 흑백 속도: 22ppm / 인쇄 해상도: 1200 x 1200dpi / 자동양면인쇄 / 자동급지장치 / 기본 급지용량: 1,140매 / 최대 4단 용지함 / A3 출력,스캔 / 연속복사: 9999매 / 자동양면복사 / 연결방식: USB, 유선랜(RJ-45) / SEND기능 / 안드로이드OS / Mac 지원 / 4GB / 320GB / 컬러터치LCD / 소음: 53dBA / 월 권장 인쇄량: 5000매 / 가로: 566mm / 세로: 640mm / 높이: 879mm / 무게: 81.2kg', '1965620'], ['Epson 익스프레션 홈 XP-2106', '복합기 / 잉크젯 / 거치형 / 컬러 출력 / 스캔 / 컬러 속도: 15ppm / 흑백 속도: 27ppm / 인쇄 해상도: 5760 x 1440dpi / 용지함 용량: 50매 / 광학 스캔 해상도: 1200dpi / 연결방식: USB, WiFi / 모바일 프린팅 / 이메일 프린팅 / 클라우드 프린팅 / 가로: 390mm / 세로: 300mm / 높이: 146mm', '89900'], ['Canon MF643Cdw', '복합기 / 레이저 / 컬러 출력 / 복사 / 스캔 / 컬러 속도: 21ppm / 흑백 속도: 21ppm / 첫 장 인쇄: 10초 / 인쇄 해상도: 9600 x 600dpi / 자동양면인쇄 / 자동급지장치 / 용지함 용량: 250매 / A4 출력 / 카트리지 구성: 흑백1 + 컬러3 / 연결방식: USB, 유선랜(RJ-45), WiFi / 다이렉트USB / Mac 지원 / 모바일 프린팅 / 에어 프린팅 / 클라우드 프린팅 / RAM: 1GB / 터치스크린LCD / 가로: 451mm / 세로: 460mm / 높이: 413mm', '405000'], ['Epson 완성형 정품 무한 L6190', '복합기 / 잉크젯 / 컬러 출력 / 복사 / 스캔 / 팩스 / 컬러 속도: 20ppm / 흑백 속도: 33ppm / 컬러 속도(ISO): 8ipm / 흑백 속도(ISO): 15ipm / 인쇄 해상도: 4800 x 1200dpi / 자동양면인쇄 / 자동급지장치 / 용지함 용량: 250매 / A4 출력 / 카트리지 구성: 흑백1 + 컬러3 / 광학 스캔 해상도: 1200dpi / 연결방식: USB, 유선랜(RJ-45), WiFi / Mac 지원 / 모바일 프린팅 / 에어 프린팅 / 이메일 프린팅 / 클라우드 프린팅 / 터치스크린LCD / 가로: 375mm / 세로: 347mm / 높이: 231mm', '329000'], ['', '', 0], ['Canon PIXMA 정품 무한 G7090', '복합기 / 잉크젯 / 컬러 출력 / 복사 / 스캔 / 팩스 / 컬러 속도(ISO): 6.8ipm / 흑백 속도(ISO): 13ipm / 자동양면인쇄 / 자동급지장치 / 용지함 용량: 350매 / A4 출력 / 카트리지 구성: 흑백1 + 컬러3 / 광학 스캔 해상도: 1200 x 2400dpi / 연결방식: USB, 유선랜(RJ-45), WiFi / 픽트브리지 / Mac 지원 / 자동 꺼짐 / 모바일 프린팅 / 에어 프린팅 / 클라우드 프린팅 / 일반LCD / 가로: 403mm / 세로: 369mm / 높이: 234mm', '331500'], ['삼성전자 MultiXpress SL-X3220NR', '컬러 디지털 복합기 / 인쇄 / 복사 / 스캔 / 컬러 속도: 22ppm / 흑백 속도: 22ppm / 인쇄 해상도: 1200 x 1200dpi / 자동양면인쇄 / 자동급지장치 / 기본 급지용량: 1,040매 / 최대 4단 용지함 / A3 출력,스캔 / 연속복사: 9999매 / 연결방식: USB, 유선랜(RJ-45) / 다이렉트USB / Mac 지원 / 2GB / 320GB / 컬러터치LCD / 소음: 최대 53dBA / 월 권장 인쇄량: 3500매 / 가로: 566mm / 세로: 620mm / 높이: 870mm / 무게: 78.2kg / 높이(옵션포함시): 1130mm', '1881270'], ['삼성전자 SL-P7600LX', '컬러 디지털 복합기 / 잉크젯 / 인쇄 / 복사 / 스캔 / 컬러 속도: 60ppm / 흑백 속도: 60ppm / 인쇄 해상도: 1200 x 1200dpi / 자동양면인쇄 / 자동급지장치 / 기본 급지용량: 650매 / 최대 4단 용지함 / A3 출력,스캔 / 연속복사: 9999매 / 2GB / 320GB / 컬러터치LCD / 가로: 604mm / 세로: 652mm / 높이: 664mm / 무게: 66.6kg', '4000000'], ['삼성전자 MultiXpress SL-K3250NR', '흑백 디지털 복합기 / 인쇄 / 복사 / 스캔 / 흑백 속도: 25ppm / 인쇄 해상도: 1200 x 1200dpi / 자동양면인쇄 / 자동급지장치 / 기본 급지용량: 1,140매 / 최대 4단 용지함 / A3 출력,스캔 / 연속복사: 9999매 / 연결방식: USB, 유선랜(RJ-45) / Mac 지원 / 1.5GB / 320GB / 컬러터치LCD / 소음: 53dBA / 월 권장 인쇄량: 3500매 / 가로: 566mm / 세로: 620mm / 높이: 820mm / 무게: 58.3kg / 높이(옵션포함시): 1080mm', '1177890'], ['삼성전자 잉크젯 플러스S 정품 무한 SL-T1670W', '복합기 / 잉크젯 / 컬러 출력 / 복사 / 스캔 / 컬러 속도: 16ppm / 흑백 속도: 20ppm / 인쇄 해상도: 4800 x 1200dpi / 용지함 용량: 100매 / A4 출력 / 카트리지 구성: 흑백1 + 컬러3 / 광학 스캔 해상도: 1200dpi / 연결방식: WiFi / RAM: 256MB / 일반LCD / 월 최대 인쇄량: 1000매 / 가로: 447mm / 세로: 373mm / 높이: 158mm', '201490'], ['', '', 0], ['HP 오피스젯 프로 7740 와이드 포맷 무한공급기', '복합기 / 잉크젯 / 컬러 출력 / 복사 / 스캔 / 팩스 / 컬러 속도: 34ppm / 흑백 속도: 34ppm / 컬러 속도(ISO): 17ipm / 흑백 속도(ISO): 21ipm / 첫 장 인쇄: 9초 (컬러 10초) / 인쇄 해상도: 4800 x 1200dpi / 자동양면인쇄 / 자동급지장치 / 용지함 용량: 500매 / A3 출력 / 카트리지 구성: 흑백1 + 컬러3 / 무한 패키지 / 광학 스캔 해상도: 1200dpi / 연결방식: USB, 유선랜(RJ-45), WiFi / Mac 지원 / 에어 프린팅 / 클라우드 프린팅 / RAM: 512MB / 터치스크린LCD / 월 최대 인쇄량: 30000매 / 가로: 584.2mm / 세로: 466.9mm / 높이: 383.5mm', '526190'], ['Epson 완성형 가정용 정품 무한 L3156', '복합기 / 잉크젯 / 컬러 출력 / 복사 / 스캔 / 컬러 속도: 15ppm / 흑백 속도: 33ppm / 컬러 속도(ISO): 5ipm / 흑백 속도(ISO): 10ipm / 인쇄 해상도: 5760 x 1440dpi / 용지함 용량: 100매 / A4 출력 / 카트리지 구성: 흑백1 + 컬러3 / 광학 스캔 해상도: 1200dpi / 연결방식: USB, WiFi / Mac 지원 / 모바일 프린팅 / 이메일 프린팅 / 클라우드 프린팅 / 가로: 375mm / 세로: 347mm / 높이: 179mm', '179550'], ['Canon iR2206F', '흑백 디지털 복합기 / 인쇄 / 복사 / 스캔 / 팩스 / 흑백 속도: 22ppm / 인쇄 해상도: 600 x 600dpi / 자동급지장치 / 기본 급지용량: 330매 / 최대 2단 용지함 / A3 출력,스캔 / 연속복사: 999매 / 연결방식: USB, 유선랜(RJ-45), WiFi / Mac 지원 / 512MB / 가로: 622mm / 세로: 606mm / 높이: 600mm / 무게: 35.5kg', '785450'], ['Canon IR C3020', '컬러 디지털 복합기 / 인쇄 / 복사 / 스캔 / 컬러 속도: 20ppm / 흑백 속도: 20ppm / 인쇄 해상도: 1200 x 1200dpi / 자동양면인쇄 / 기본 급지용량: 1,200매 / 최대 4단 용지함 / A3 출력,스캔 / 연속복사: 999매 / SEND기능 / 다이렉트USB / Mac 지원 / 2GB / 컬러터치LCD / 가로: 565mm / 세로: 664mm / 무게: 72.6kg / 높이(옵션포함시): 1128mm', '1758550'], ['삼성전자 MultiXpress SL-X4255LX', '컬러 디지털 복합기 / 인쇄 / 복사 / 스캔 / 팩스 / 컬러 속도: 25ppm / 흑백 속도: 25ppm / 인쇄 해상도: 1200 x 1200dpi / 자동양면인쇄 / 자동급지장치 / 기본 급지용량: 1,140매 / 최대 4단 용지함 / A3 출력,스캔 / 연속복사: 9999매 / 자동양면복사 / 연결방식: USB, 유선랜(RJ-45) / SEND기능 / 안드로이드OS / Mac 지원 / 4GB / 320GB / 컬러터치LCD / 소음: 54dBA / 월 권장 인쇄량: 6000매 / 가로: 566mm / 세로: 640mm / 높이: 879mm / 무게: 82.6kg', '2725990'], ['삼성전자 SL-J1660', '복합기 / 잉크젯 / 컬러 출력 / 복사 / 스캔 / 컬러 속도: 16ppm / 흑백 속도: 20ppm / 컬러 속도(ISO): 5.5ipm / 흑백 속도(ISO): 7.5ipm / 인쇄 해상도: 4800 x 1200dpi / 용지함 용량: 60매 / A4 출력 / 카트리지 구성: 흑백1 + 컬러1 / 광학 스캔 해상도: 1200dpi / 연결방식: USB / 월 최대 인쇄량: 1000매 / 가로: 425mm / 세로: 304mm / 높이: 149mm', '54120'], ['Canon MF645Cx', '복합기 / 레이저 / 컬러 출력 / 복사 / 스캔 / 팩스 / 컬러 속도: 21ppm / 흑백 속도: 21ppm / 첫 장 인쇄: 10초 / 인쇄 해상도: 9600 x 600dpi / 자동양면인쇄 / 자동급지장치 / 용지함 용량: 250매 / A4 출력 / 카트리지 구성: 흑백1 + 컬러3 / 연결방식: USB, 유선랜(RJ-45), WiFi / 다이렉트USB / Mac 지원 / 에어 프린팅 / 클라우드 프린팅 / RAM: 1GB / 터치스크린LCD / 가로: 451mm / 세로: 460mm / 높이: 413mm', '476740'], ['삼성전자 SL-M2893FW', '복합기 / 레이저 / 흑백(모노) 출력 / 복사 / 스캔 / 팩스 / 흑백 속도: 27ppm / 첫 장 인쇄: 8.5초 / 인쇄 해상도: 4800 x 600dpi / 자동양면인쇄 / 자동급지장치 / 용지함 용량: 250매 / A4 출력 / 카트리지 구성: 흑백 1개 / 광학 스캔 해상도: 1200dpi / 연결방식: USB, 유선랜(RJ-45), WiFi / Mac 지원 / RAM: 256MB / 일반LCD / 월 최대 인쇄량: 12000매 / 가로: 401mm / 세로: 362mm / 높이: 367mm', '236600'], ['Brother MFC-L6900DW', '흑백 디지털 복합기 / 인쇄 / 복사 / 스캔 / 팩스 / 흑백 속도: 50ppm / 인쇄 해상도: 1200 x 1200dpi / 자동양면인쇄 / 기본 급지용량: 520매 / 최대 5단 용지함 / A4 출력,스캔 / 연속복사: 99매 / 자동양면복사 / 연결방식: USB, 유선랜(RJ-45), WiFi / 1GB / 일반LCD / 소음: 57dBA / 가로: 495mm / 세로: 427mm / 높이: 518mm / 무게: 19.1kg', '699000'], ['HP 오피스젯 프로 9010 무한공급기', '복합기 / 잉크젯 / 컬러 출력 / 복사 / 스캔 / 팩스 / 컬러 속도: 32ppm / 흑백 속도: 32ppm / 컬러 속도(ISO): 18ipm / 흑백 속도(ISO): 22ipm / 첫 장 인쇄: 9초(컬러 10초) / 인쇄 해상도: 4800 x 1200dpi / 자동양면인쇄 / 자동급지장치 / 용지함 용량: 250매 / A4 출력 / 카트리지 구성: 흑백1 + 컬러3 / 무한 패키지 / 광학 스캔 해상도: 1200dpi / 연결방식: USB, 유선랜(RJ-45), WiFi / 다이렉트USB / 모바일 프린팅 / 에어 프린팅 / 이메일 프린팅 / RAM: 512MB / 터치스크린LCD / 월 최대 인쇄량: 25000매 / 가로: 439.3mm / 세로: 342.5mm / 높이: 278mm', '397600'], ['삼성전자 MultiXpress SL-K4255RX', '흑백 디지털 복합기 / 인쇄 / 복사 / 스캔 / 팩스 / 흑백 속도: 25ppm / 인쇄 해상도: 600 x 600dpi / 자동양면인쇄 / 자동급지장치 / 기본 급지용량: 1,140매 / 최대 4단 용지함 / A3 출력,스캔 / 연속복사: 9999매 / 자동양면복사 / 연결방식: USB, 유선랜(RJ-45) / SEND기능 / 안드로이드OS / Mac 지원 / 4GB / 320GB / 컬러터치LCD / 소음: 53dBA / 월 권장 인쇄량: 5000매 / 가로: 566mm / 세로: 640mm / 높이: 829mm / 무게: 63.1kg / 높이(옵션포함시): 1089mm', '1471720'], ['삼성전자 잉크젯 플러스S 정품 무한 SL-T1672FW', '복합기 / 잉크젯 / 컬러 출력 / 복사 / 스캔 / 팩스 / 컬러 속도: 16ppm / 흑백 속도: 20ppm / 인쇄 해상도: 4800 x 1200dpi / 자동급지장치 / 용지함 용량: 100매 / A4 출력 / 카트리지 구성: 흑백1 + 컬러3 / 광학 스캔 해상도: 1200dpi / 연결방식: WiFi / RAM: 256MB / 터치스크린LCD / 월 최대 인쇄량: 1000매 / 가로: 449mm / 세로: 373mm / 높이: 198mm', '287490'], ['삼성전자 SL-C565W 스마트 알뜰토너', '복합기 / 레이저 / 컬러 출력 / 복사 / 스캔 / 컬러 속도: 4ppm / 흑백 속도: 18ppm / 첫 장 인쇄: 14초 (컬러 26초) / 인쇄 해상도: 2400 x 600dpi / 용지함 용량: 150매 / A4 출력 / 카트리지 구성: 흑백1 + 컬러3 / 광학 스캔 해상도: 600dpi / 연결방식: USB, 유선랜(RJ-45), WiFi / Mac 지원 / 모바일 프린팅 / NFC 탑재 / RAM: 128MB / 일반LCD / 월 최대 인쇄량: 20,000매 / 가로: 406mm / 세로: 362mm / 높이: 289mm', '299990'], ['삼성전자 SL-C563FW', '복합기 / 레이저 / 컬러 출력 / 복사 / 스캔 / 팩스 / 컬러 속도: 4ppm / 흑백 속도: 18ppm / 첫 장 인쇄: 14초 (컬러 26초) / 인쇄 해상도: 2400 x 600dpi / 자동급지장치 / 용지함 용량: 150매 / A4 출력 / 카트리지 구성: 흑백1 + 컬러3 / 광학 스캔 해상도: 600dpi / 연결방식: USB, 유선랜(RJ-45), WiFi / Mac 지원 / 모바일 프린팅 / NFC 탑재 / RAM: 128MB / 일반LCD / 월 최대 인쇄량: 20,000매 / 가로: 406mm / 세로: 362mm / 높이: 333.5mm', '345340'], ['Canon PIXMA 정품 무한 G6090', '복합기 / 잉크젯 / 컬러 출력 / 복사 / 스캔 / 컬러 속도(ISO): 6.8ipm / 흑백 속도(ISO): 13ipm / 인쇄 해상도: 4800 x 1200dpi / 자동양면인쇄 / 용지함 용량: 350매 / A4 출력 / 카트리지 구성: 흑백1 + 컬러3 / 광학 스캔 해상도: 1200dpi / 연결방식: USB, 유선랜(RJ-45), WiFi / 픽트브리지 / Mac 지원 / 자동 꺼짐 / 모바일 프린팅 / 에어 프린팅 / 클라우드 프린팅 / 일반LCD / 가로: 403mm / 세로: 369mm / 높이: 195mm', '275600'], ['Epson 완성형 정품 무한 L5190', '복합기 / 잉크젯 / 컬러 출력 / 복사 / 스캔 / 팩스 / 컬러 속도: 15ppm / 흑백 속도: 33ppm / 컬러 속도(ISO): 5ipm / 흑백 속도(ISO): 10ipm / 인쇄 해상도: 5760 x 1440dpi / 자동급지장치 / 용지함 용량: 100매 / A4 출력 / 카트리지 구성: 흑백1 + 컬러3 / 광학 스캔 해상도: 1200dpi / 연결방식: USB, 유선랜(RJ-45), WiFi / Mac 지원 / 모바일 프린팅 / 에어 프린팅 / 이메일 프린팅 / 클라우드 프린팅 / 일반LCD / 가로: 375mm / 세로: 347mm / 높이: 237mm', '280330'], ['Canon IR ADV DX C3725', '컬러 디지털 복합기 / 레이저젯 / 인쇄 / 복사 / 스캔 / 컬러 속도: 25ppm / 흑백 속도: 25ppm / 인쇄 해상도: 1200 x 1200dpi / 자동양면인쇄 / 자동급지장치 / 기본 급지용량: 1,200매 / 최대 4단 용지함 / A3 출력 / 연속복사: 999매 / 연결방식: USB, 유선랜(RJ-45), WiFi / SEND기능 / Mac 지원 / 3GB / 250GB / 컬러터치LCD / 가로: 565mm / 세로: 719mm / 높이: 880mm / 무게: 73.1kg', '2557000'], ['Epson 완성형 정품 무한 L4160', '복합기 / 잉크젯 / 컬러 출력 / 복사 / 스캔 / 컬러 속도: 15ppm / 흑백 속도: 33ppm / 컬러 속도(ISO): 5ipm / 흑백 속도(ISO): 10.5ipm / 인쇄 해상도: 5760 x 1440dpi / 자동양면인쇄 / 용지함 용량: 100매 / A4 출력 / 카트리지 구성: 흑백1 + 컬러3 / 광학 스캔 해상도: 1200dpi / 연결방식: USB, WiFi / 메모리 리더기 / Mac 지원 / 모바일 프린팅 / 이메일 프린팅 / 클라우드 프린팅 / 일반LCD / 가로: 375mm / 세로: 347mm / 높이: 187mm', '257300'], ['삼성전자 MultiXpress SL-K4305LX', '흑백 디지털 복합기 / 인쇄 / 복사 / 스캔 / 팩스 / 흑백 속도: 30ppm / 인쇄 해상도: 1200 x 1200dpi / 자동양면인쇄 / 자동급지장치 / 기본 급지용량: 1,140매 / 최대 4단 용지함 / A3 출력,스캔 / 연속복사: 9999매 / 자동양면복사 / 연결방식: USB, 유선랜(RJ-45) / SEND기능 / 안드로이드OS / Mac 지원 / 4GB / 320GB / 컬러터치LCD / 소음: 55dBA / 월 권장 인쇄량: 6000매 / 가로: 566mm / 세로: 640mm / 높이: 829mm / 무게: 63.8kg / 높이(옵션포함시): 1089mm', '1784990'], ['Epson 완성형 정품 무한 L14150', '복합기 / 잉크젯 / 컬러 출력 / 복사 / 스캔 / 팩스 / 컬러 속도: 24ppm / 흑백 속도: 38ppm / 컬러 속도(ISO): 9ipm / 흑백 속도(ISO): 17ipm / 인쇄 해상도: 4800 x 1200dpi / 자동양면인쇄 / 자동급지장치 / 용지함 용량: 270매 / A3 출력 / 카트리지 구성: 흑백1 + 컬러3 / 연결방식: USB, 유선랜(RJ-45), WiFi / Mac 지원 / 모바일 프린팅 / 에어 프린팅 / 이메일 프린팅 / 터치스크린LCD / 가로: 498mm / 세로: 385mm / 높이: 245mm', '549000'], ['Canon PIXMA 정품 무한 G3910', '복합기 / 잉크젯 / 컬러 출력 / 복사 / 스캔 / 컬러 속도(ISO): 5ipm / 흑백 속도(ISO): 8.8ipm / 인쇄 해상도: 4800 x 1200dpi / A4 출력 / 카트리지 구성: 흑백1 + 컬러3 / 광학 스캔 해상도: 600dpi / 연결방식: USB, WiFi / 자동 꺼짐 / 모바일 프린팅 / 클라우드 프린팅 / 일반LCD / 가로: 445mm / 세로: 330mm / 높이: 163mm', '179490'], ['삼성전자 SL-C565FW 스마트 알뜰토너', '복합기 / 레이저 / 컬러 출력 / 복사 / 스캔 / 팩스 / 컬러 속도: 4ppm / 흑백 속도: 18ppm / 첫 장 인쇄: 14초 (컬러 26초) / 인쇄 해상도: 2400 x 600dpi / 자동급지장치 / 용지함 용량: 150매 / A4 출력 / 카트리지 구성: 흑백1 + 컬러3 / 광학 스캔 해상도: 600dpi / 연결방식: USB, 유선랜(RJ-45), WiFi / Mac 지원 / 모바일 프린팅 / NFC 탑재 / RAM: 128MB / 일반LCD / 월 최대 인쇄량: 20,000매 / 가로: 406mm / 세로: 362mm / 높이: 333.5mm', '358500'], ['삼성전자 MultiXpress SL-X4305LX', '컬러 디지털 복합기 / 인쇄 / 복사 / 스캔 / 팩스 / 컬러 속도: 30ppm / 흑백 속도: 30ppm / 인쇄 해상도: 1200 x 1200dpi / 자동양면인쇄 / 자동급지장치 / 기본 급지용량: 1,140매 / 최대 4단 용지함 / A3 출력,스캔 / 연속복사: 9999매 / 자동양면복사 / 연결방식: USB, 유선랜(RJ-45) / SEND기능 / 안드로이드OS / Mac 지원 / 4GB / 320GB / 컬러터치LCD / 소음: 54dBA / 월 권장 인쇄량: 7000매 / 가로: 566mm / 세로: 640mm / 높이: 879mm / 무게: 82.6kg', '3072210'], ['HP 컬러 레이저젯 프로 MFP M282nw', '복합기 / 레이저 / 컬러 출력 / 복사 / 스캔 / 컬러 속도: 21ppm / 흑백 속도: 21ppm / 첫 장 인쇄: 10.6초 (컬러 12.3초) / 인쇄 해상도: 600 x 600dpi / 자동급지장치 / 용지함 용량: 250매 / A4 출력 / 카트리지 구성: 흑백1 + 컬러3 / 광학 스캔 해상도: 1200dpi / 연결방식: USB, 유선랜(RJ-45), WiFi / Mac 지원 / 자동 꺼짐 / 모바일 프린팅 / 에어 프린팅 / 이메일 프린팅 / RAM: 256MB / 터치스크린LCD / 가로: 420mm / 세로: 388.6mm / 높이: 334.1mm', '365000'], ['HP 오피스젯 프로 7720 와이드 포맷 무한공급기', '복합기 / 잉크젯 / 컬러 출력 / 복사 / 스캔 / 팩스 / 컬러 속도: 34ppm / 흑백 속도: 34ppm / 컬러 속도(ISO): 18ipm / 흑백 속도(ISO): 22ipm / 첫 장 인쇄: 9초 (컬러 10초) / 인쇄 해상도: 4800 x 1200dpi / 자동양면인쇄 / 자동급지장치 / 용지함 용량: 250매 / A3 출력 / 카트리지 구성: 흑백1 + 컬러3 / 무한 패키지 / 광학 스캔 해상도: 1200dpi / 연결방식: USB, 유선랜(RJ-45), WiFi / Mac 지원 / 에어 프린팅 / 클라우드 프린팅 / RAM: 512MB / 터치스크린LCD / 월 최대 인쇄량: 30000매 / 가로: 584.2mm / 세로: 444.5mm / 높이: 307.3mm', '365410']]\n"
     ]
    }
   ],
   "source": [
    "# 예제 7-9 반복문으로 검색 결과의 1페이지에 대한 상품 정보 추출\n",
    "prod_data = []\n",
    "for prod_item in prod_items:\n",
    "    try: # ① 상품명 가져오기\n",
    "        title = prod_item.select('p.prod_name > a')[0].text.strip()\n",
    "    except:\n",
    "        title = ''\n",
    "    try: # ② 스펙 목록 가져오기\n",
    "        spec_list = prod_item.select('div.spec_list')[0].text.strip()\n",
    "    except:\n",
    "        spec_list = ''\n",
    "    try: # ③ 가격 정보 가져오기 \n",
    "        price = prod_item.select('li.rank_one > p.price_sect > a > strong')[0].text.strip().replace(\",\",\"\")\n",
    "    except:\n",
    "        price = 0\n",
    "    prod_data.append([title, spec_list, price])\n",
    "    \n",
    "print(len(prod_data))\n",
    "print(prod_data)"
   ]
  },
  {
   "cell_type": "code",
   "execution_count": 44,
   "metadata": {},
   "outputs": [],
   "source": [
    "# 예제 7-10 상품 정보 태그에서 원하는 정보를 추출하는 함수\n",
    "def get_prod_items(prod_items):\n",
    "    prod_data = []\n",
    "    \n",
    "    for prod_item in prod_items:\n",
    "        # ① 상품명 가져오기\n",
    "        try:\n",
    "            title = prod_item.select('p.prod_name > a')[0].text.strip()\n",
    "        except:\n",
    "            title = ''\n",
    "        # ② 스펙 목록 가져오기\n",
    "        try: \n",
    "            spec_list = prod_item.select('div.spec_list')[0].text.strip()\n",
    "        except:\n",
    "            spec_list = ''\n",
    "        # ③ 가격 정보 가져오기 \n",
    "        try: \n",
    "            price = int(prod_item.select('li.rank_one > p.price_sect > a > strong')[0].text.strip().replace(\",\",\"\"))\n",
    "        except:\n",
    "            price = 0\n",
    "        prod_data.append([title, spec_list, price])\n",
    "        \n",
    "    return prod_data"
   ]
  },
  {
   "cell_type": "code",
   "execution_count": 45,
   "metadata": {},
   "outputs": [
    {
     "name": "stdout",
     "output_type": "stream",
     "text": [
      "44\n"
     ]
    }
   ],
   "source": [
    "# 예제 7-11 상품 정보를 가져오는 함수 테스트\n",
    "prod_items = soup.select('div.main_prodlist > ul.product_list > li.prod_item')\n",
    "prod_data = get_prod_items(prod_items)\n",
    "print(len(prod_data))"
   ]
  },
  {
   "cell_type": "markdown",
   "metadata": {},
   "source": [
    "# 7.2  데이터 수집 2 - 여러 페이지에 걸친 다나와 검색 페이지 크롤링"
   ]
  },
  {
   "cell_type": "markdown",
   "metadata": {},
   "source": [
    "### 7.2.1 다나와 검색 결과 페이지 URL 분석"
   ]
  },
  {
   "cell_type": "code",
   "execution_count": 49,
   "metadata": {},
   "outputs": [
    {
     "name": "stdout",
     "output_type": "stream",
     "text": [
      "http://search.danawa.com/dsearch.php?query=복합기&volumeType=allvs&page=9998&limit=30&sort=saveDESC&list=list&boost=true&addDelivery=N&tab=goods&tab=goods\n"
     ]
    }
   ],
   "source": [
    "# 예제 7-12 다나와 검색 URL을 만들어주는 함수 \n",
    "def get_search_page_url(keyword, page):\n",
    "    return 'http://search.danawa.com/dsearch.php?query={}&volumeType=allvs&page={}&limit=30&sort=saveDESC&list=list&boost=true&addDelivery=N&tab=goods&tab=goods'.format(keyword, page)\n",
    "\n",
    "keyword = '복합기'\n",
    "page = 9998\n",
    "url = get_search_page_url(keyword, page)\n",
    "print(url)\n"
   ]
  },
  {
   "cell_type": "markdown",
   "metadata": {},
   "source": [
    "### 7.2.2 주피터 노트북의 진행표시줄 처리 "
   ]
  },
  {
   "cell_type": "code",
   "execution_count": 20,
   "metadata": {},
   "outputs": [
    {
     "name": "stdout",
     "output_type": "stream",
     "text": [
      "Requirement already satisfied: tqdm in c:\\users\\minju\\anaconda3\\lib\\site-packages (4.49.0)\n"
     ]
    }
   ],
   "source": [
    "# 예제 7-13 tqdm 라이브러리 설치 \n",
    "! pip install tqdm"
   ]
  },
  {
   "cell_type": "code",
   "execution_count": 44,
   "metadata": {},
   "outputs": [
    {
     "name": "stderr",
     "output_type": "stream",
     "text": [
      "<ipython-input-44-0f97b229b65b>:5: TqdmDeprecationWarning: This function will be removed in tqdm==5.0.0\n",
      "Please use `tqdm.notebook.tqdm` instead of `tqdm.tqdm_notebook`\n",
      "  for page in tqdm_notebook(range(1, total_page + 1)):\n"
     ]
    },
    {
     "data": {
      "application/vnd.jupyter.widget-view+json": {
       "model_id": "0aa8617a46084de196bb60f2c6a27d1e",
       "version_major": 2,
       "version_minor": 0
      },
      "text/plain": [
       "HBox(children=(FloatProgress(value=0.0, max=13000.0), HTML(value='')))"
      ]
     },
     "metadata": {},
     "output_type": "display_data"
    },
    {
     "name": "stdout",
     "output_type": "stream",
     "text": [
      "\n"
     ]
    }
   ],
   "source": [
    "# 예제 7-14 tqdm 사용법 \n",
    "import time\n",
    "from tqdm import tqdm_notebook\n",
    "total_page = 13000\n",
    "for page in tqdm_notebook(range(1, total_page + 1)):\n",
    "    # 페이지가 로딩 완료되기 위한 시간을 5초로 준다. \n",
    "    time.sleep(3)"
   ]
  },
  {
   "cell_type": "markdown",
   "metadata": {},
   "source": [
    "### 7.2.3 여러 페이지에 걸친 상품 정보 수집"
   ]
  },
  {
   "cell_type": "code",
   "execution_count": 51,
   "metadata": {},
   "outputs": [
    {
     "name": "stderr",
     "output_type": "stream",
     "text": [
      "<ipython-input-51-4b2d2206cba6>:16: TqdmDeprecationWarning: This function will be removed in tqdm==5.0.0\n",
      "Please use `tqdm.notebook.tqdm` instead of `tqdm.tqdm_notebook`\n",
      "  for page in tqdm_notebook(range(1, total_page + 1)):\n"
     ]
    },
    {
     "data": {
      "application/vnd.jupyter.widget-view+json": {
       "model_id": "cd0c7af2581642aebad6cab84e0ee55f",
       "version_major": 2,
       "version_minor": 0
      },
      "text/plain": [
       "HBox(children=(HTML(value=''), FloatProgress(value=0.0, max=3.0), HTML(value='')))"
      ]
     },
     "metadata": {},
     "output_type": "display_data"
    },
    {
     "name": "stdout",
     "output_type": "stream",
     "text": [
      "\n"
     ]
    }
   ],
   "source": [
    "\n",
    "# 예제 7-15 실전 다나와 크롤링\n",
    "from selenium import webdriver\n",
    "import time\n",
    "from bs4 import BeautifulSoup\n",
    "from tqdm import tqdm_notebook\n",
    "\n",
    "driver = webdriver.Chrome('./chromedriver.exe')\n",
    "# 암묵적으로 웹 자원 로드를 위해 3초까지 기다림\n",
    "driver.implicitly_wait(2)\n",
    "\n",
    "\n",
    "keyword = '복합기'\n",
    "total_page = 3\n",
    "prod_data_total = []\n",
    "# 진행 정도를 표현하는 tqdm을 적용 \n",
    "for page in tqdm_notebook(range(1, total_page + 1)):\n",
    "    # ① 검색 페이지 이동\n",
    "    url = get_search_page_url(keyword, page)\n",
    "    driver.get(url)\n",
    "    # 페이지가 로딩 완료되기 위한 시간으로 5초를 할당\n",
    "    time.sleep(3)\n",
    "    SCROLL_PAUSE_TIME = 2\n",
    "    last_height = driver.execute_script(\"return document.body.scrollHeight\")        \n",
    "\n",
    "    while True:\n",
    "        # Scroll down to bottom                                                      \n",
    "        driver.execute_script(\"window.scrollTo(0, document.body.scrollHeight);\")\n",
    "\n",
    "        # Wait to load page\n",
    "        time.sleep(SCROLL_PAUSE_TIME)                                                \n",
    "        driver.execute_script(\"window.scrollTo(0, document.body.scrollHeight-50);\")  \n",
    "        time.sleep(SCROLL_PAUSE_TIME)\n",
    "\n",
    "        # Calculate new scroll height and compare with last scroll height            \n",
    "        new_height = driver.execute_script(\"return document.body.scrollHeight\")\n",
    "\n",
    "        if new_height == last_height:                                                \n",
    "            break\n",
    "\n",
    "        last_height = new_height\n",
    "\n",
    "    driver.find_element_by_xpath(\"//*[@id='productListArea']/div[4]/div/a[2]\").click()\n",
    "    \n",
    "    \n",
    "    # ② 현재 페이지의 HTML 정보 가져오기\n",
    "    html = driver.page_source\n",
    "    soup = BeautifulSoup(html, 'html.parser')\n",
    "    \n",
    "    # ③ 상품 정보 추출\n",
    "    prod_items = soup.select('div#productListArea > div.main_prodlist > ul.product_list > li.prod_item')\n",
    "    prod_item_list = get_prod_items(prod_items)\n",
    "    \n",
    "    # ④ 추출 데이터 저장\n",
    "    prod_data_total = prod_data_total + prod_item_list\n"
   ]
  },
  {
   "cell_type": "markdown",
   "metadata": {},
   "source": [
    "### 7.2.4 수집 데이터 저장 "
   ]
  },
  {
   "cell_type": "code",
   "execution_count": 32,
   "metadata": {},
   "outputs": [],
   "source": [
    "# 예제 7-16 데이터 저장\n",
    "import pandas as pd\n",
    "data = pd.DataFrame(prod_data_total)\n",
    "data.columns = ['상품명', '스펙 목록', '가격']\n",
    "data.to_excel('C:/Users/Jun young/Desktop/crawling/1_danawa_crawling_result_nonscroll.xlsx', index = False)"
   ]
  },
  {
   "cell_type": "markdown",
   "metadata": {},
   "source": [
    "### 7.3.1 다나와 크롤링 데이터 불러오기 "
   ]
  },
  {
   "cell_type": "code",
   "execution_count": 30,
   "metadata": {
    "scrolled": true
   },
   "outputs": [
    {
     "name": "stdout",
     "output_type": "stream",
     "text": [
      "<class 'pandas.core.frame.DataFrame'>\n",
      "RangeIndex: 400 entries, 0 to 399\n",
      "Data columns (total 3 columns):\n",
      " #   Column  Non-Null Count  Dtype \n",
      "---  ------  --------------  ----- \n",
      " 0   상품명     400 non-null    object\n",
      " 1   스펙 목록   400 non-null    object\n",
      " 2   가격      400 non-null    int64 \n",
      "dtypes: int64(1), object(2)\n",
      "memory usage: 9.5+ KB\n"
     ]
    },
    {
     "data": {
      "text/html": [
       "<div>\n",
       "<style scoped>\n",
       "    .dataframe tbody tr th:only-of-type {\n",
       "        vertical-align: middle;\n",
       "    }\n",
       "\n",
       "    .dataframe tbody tr th {\n",
       "        vertical-align: top;\n",
       "    }\n",
       "\n",
       "    .dataframe thead th {\n",
       "        text-align: right;\n",
       "    }\n",
       "</style>\n",
       "<table border=\"1\" class=\"dataframe\">\n",
       "  <thead>\n",
       "    <tr style=\"text-align: right;\">\n",
       "      <th></th>\n",
       "      <th>상품명</th>\n",
       "      <th>스펙 목록</th>\n",
       "      <th>가격</th>\n",
       "    </tr>\n",
       "  </thead>\n",
       "  <tbody>\n",
       "    <tr>\n",
       "      <th>0</th>\n",
       "      <td>삼성전자 MultiXpress SL-X4225RX</td>\n",
       "      <td>컬러 디지털 복합기 / 인쇄 / 복사 / 스캔 / 팩스 / 컬러 속도: 22ppm ...</td>\n",
       "      <td>1987730</td>\n",
       "    </tr>\n",
       "    <tr>\n",
       "      <th>1</th>\n",
       "      <td>삼성전자 잉크젯 플러스S 정품 무한 SL-T1670W</td>\n",
       "      <td>복합기 / 잉크젯 / 컬러 출력 / 복사 / 스캔 / 컬러 속도: 16ppm / 흑...</td>\n",
       "      <td>206290</td>\n",
       "    </tr>\n",
       "    <tr>\n",
       "      <th>2</th>\n",
       "      <td>삼성전자 MultiXpress SL-K3250NR</td>\n",
       "      <td>흑백 디지털 복합기 / 인쇄 / 복사 / 스캔 / 흑백 속도: 25ppm / 인쇄 ...</td>\n",
       "      <td>1151820</td>\n",
       "    </tr>\n",
       "    <tr>\n",
       "      <th>3</th>\n",
       "      <td>삼성전자 MultiXpress SL-K4255RX</td>\n",
       "      <td>흑백 디지털 복합기 / 인쇄 / 복사 / 스캔 / 팩스 / 흑백 속도: 25ppm ...</td>\n",
       "      <td>1513450</td>\n",
       "    </tr>\n",
       "    <tr>\n",
       "      <th>4</th>\n",
       "      <td>삼성전자 SL-C563FW</td>\n",
       "      <td>복합기 / 레이저 / 컬러 출력 / 복사 / 스캔 / 팩스 / 컬러 속도: 4ppm...</td>\n",
       "      <td>352400</td>\n",
       "    </tr>\n",
       "  </tbody>\n",
       "</table>\n",
       "</div>"
      ],
      "text/plain": [
       "                             상품명  \\\n",
       "0    삼성전자 MultiXpress SL-X4225RX   \n",
       "1  삼성전자 잉크젯 플러스S 정품 무한 SL-T1670W   \n",
       "2    삼성전자 MultiXpress SL-K3250NR   \n",
       "3    삼성전자 MultiXpress SL-K4255RX   \n",
       "4                 삼성전자 SL-C563FW   \n",
       "\n",
       "                                               스펙 목록       가격  \n",
       "0  컬러 디지털 복합기 / 인쇄 / 복사 / 스캔 / 팩스 / 컬러 속도: 22ppm ...  1987730  \n",
       "1  복합기 / 잉크젯 / 컬러 출력 / 복사 / 스캔 / 컬러 속도: 16ppm / 흑...   206290  \n",
       "2  흑백 디지털 복합기 / 인쇄 / 복사 / 스캔 / 흑백 속도: 25ppm / 인쇄 ...  1151820  \n",
       "3  흑백 디지털 복합기 / 인쇄 / 복사 / 스캔 / 팩스 / 흑백 속도: 25ppm ...  1513450  \n",
       "4  복합기 / 레이저 / 컬러 출력 / 복사 / 스캔 / 팩스 / 컬러 속도: 4ppm...   352400  "
      ]
     },
     "execution_count": 30,
     "metadata": {},
     "output_type": "execute_result"
    }
   ],
   "source": [
    "# 예제 7-17 다나와 크롤링 결과 가져오기 \n",
    "import pandas as pd\n",
    "data = pd.read_excel('./files/1_danawa_crawling_result.xlsx')\n",
    "data.info()\n",
    "data.head()"
   ]
  },
  {
   "cell_type": "markdown",
   "metadata": {},
   "source": [
    "### 7.3.2 회사명, 모델명 정리 "
   ]
  },
  {
   "cell_type": "code",
   "execution_count": 31,
   "metadata": {},
   "outputs": [],
   "source": [
    "# 예제 7-18 회사명 + 모델명 분리\n",
    "company_list = []\n",
    "product_list = []\n",
    "for title in data['상품명']:\n",
    "    title_info = title.split(' ', 1)\n",
    "    company_name = title_info[0]\n",
    "    product_name = title_info[1]\n",
    "    company_list.append(company_name)\n",
    "    product_list.append(product_name)"
   ]
  },
  {
   "cell_type": "markdown",
   "metadata": {},
   "source": [
    "### 7.3.4 스펙 목록에서 카테고리, 사용시간, 흡입력을 추출해서 정리\n"
   ]
  },
  {
   "cell_type": "code",
   "execution_count": 32,
   "metadata": {},
   "outputs": [
    {
     "data": {
      "text/plain": [
       "['컬러 디지털 복합기',\n",
       " '인쇄',\n",
       " '복사',\n",
       " '스캔',\n",
       " '팩스',\n",
       " '컬러 속도: 22ppm',\n",
       " '흑백 속도: 22ppm',\n",
       " '인쇄 해상도: 1200 x 1200dpi',\n",
       " '자동양면인쇄',\n",
       " '자동급지장치',\n",
       " '기본 급지용량: 1,140매',\n",
       " '최대 4단 용지함',\n",
       " 'A3 출력,스캔',\n",
       " '연속복사: 9999매',\n",
       " '자동양면복사',\n",
       " '연결방식: USB, 유선랜(RJ-45)',\n",
       " 'SEND기능',\n",
       " '안드로이드OS',\n",
       " 'Mac 지원',\n",
       " '4GB',\n",
       " '320GB',\n",
       " '컬러터치LCD',\n",
       " '소음: 53dBA',\n",
       " '월 권장 인쇄량: 5000매',\n",
       " '가로: 566mm',\n",
       " '세로: 640mm',\n",
       " '높이: 879mm',\n",
       " '무게: 81.2kg']"
      ]
     },
     "execution_count": 32,
     "metadata": {},
     "output_type": "execute_result"
    }
   ],
   "source": [
    "# 예제 7-19 첫 번째 제품의 스펙 목록 분리\n",
    "spec_list = data['스펙 목록'][0].split(' / ')\n",
    "spec_list "
   ]
  },
  {
   "cell_type": "code",
   "execution_count": 33,
   "metadata": {},
   "outputs": [
    {
     "data": {
      "text/plain": [
       "'컬러 디지털 복합기'"
      ]
     },
     "execution_count": 33,
     "metadata": {},
     "output_type": "execute_result"
    }
   ],
   "source": [
    "# 예제 7-20 카테고리 정보 추출\n",
    "category = spec_list[0] \n",
    "category "
   ]
  },
  {
   "cell_type": "code",
   "execution_count": 37,
   "metadata": {},
   "outputs": [
    {
     "name": "stdout",
     "output_type": "stream",
     "text": [
      "컬러 속도: 22ppm\n",
      "흑백 속도: 22ppm\n"
     ]
    }
   ],
   "source": [
    "# 예제 7-21 ‘사용시간’, ‘흡입력’이 포함된 원소 추출 \n",
    "for spec in spec_list:\n",
    "    if '컬러 속도' in spec: \n",
    "         use_time_spec = spec \n",
    "    elif '흑백 속도' in spec:\n",
    "        suction_spec = spec\n",
    "        \n",
    "print(use_time_spec)\n",
    "print(suction_spec)"
   ]
  },
  {
   "cell_type": "code",
   "execution_count": 38,
   "metadata": {},
   "outputs": [
    {
     "name": "stdout",
     "output_type": "stream",
     "text": [
      "속도:\n",
      "속도:\n"
     ]
    }
   ],
   "source": [
    "# 예제 7-22 정량적인 수치 추출 \n",
    "use_time_value = use_time_spec.split(' ')[1].strip() \n",
    "suction_value = suction_spec.split(' ')[1].strip()\n",
    "\n",
    "print(use_time_value)\n",
    "print(suction_value)"
   ]
  },
  {
   "cell_type": "code",
   "execution_count": 39,
   "metadata": {},
   "outputs": [],
   "source": [
    "# 예제 7-23 카테고리, 사용시간, 흡입력 추출 \n",
    "category_list = []\n",
    "use_time_list = []\n",
    "suction_list = [] \n",
    "\n",
    "for spec_data in data['스펙 목록']:\n",
    "    # ' / ' 기준으로 스펙 분리하기 \n",
    "    spec_list = spec_data.split(' / ')\n",
    "    \n",
    "    # 카테고리 추출하기\n",
    "    category = spec_list[0] \n",
    "    category_list.append(category)\n",
    "    \n",
    "    # 사용시간, 흡입력 추출 \n",
    "    ## 사용시간, 흡입력 정보가 없는 제품을 위해 변수를 생성 \n",
    "    use_time_value = None \n",
    "    suction_value = None \n",
    "    \n",
    "    ## spec_list의 각 원소에서 사용시간, 흡입력 수치 추출\n",
    "    for spec in spec_list:\n",
    "        if '사용시간' in spec: \n",
    "            use_time_value = spec.split(' ')[1].strip()             \n",
    "        if '흡입력' in spec:\n",
    "            suction_value = spec.split(' ')[1].strip() \n",
    "    use_time_list.append(use_time_value)\n",
    "    suction_list.append(suction_value)"
   ]
  },
  {
   "cell_type": "code",
   "execution_count": 40,
   "metadata": {},
   "outputs": [
    {
     "name": "stdout",
     "output_type": "stream",
     "text": [
      "카테고리 400 ['컬러 디지털 복합기', '복합기', '흑백 디지털 복합기', '흑백 디지털 복합기', '복합기']\n",
      "사용시간 400 [None, None, None, None, None]\n",
      "흡입력 400 [None, None, None, None, None]\n"
     ]
    }
   ],
   "source": [
    "# 예제 7-24 카테고리, 사용시간, 흡입력에 대한 전처리 결과 확인\n",
    "print(\"카테고리\", len(category_list), category_list[0:5])\n",
    "print(\"사용시간\", len(use_time_list), use_time_list[0:5])\n",
    "print(\"흡입력\", len(suction_list), suction_list[0:5])"
   ]
  },
  {
   "cell_type": "code",
   "execution_count": null,
   "metadata": {},
   "outputs": [],
   "source": []
  }
 ],
 "metadata": {
  "kernelspec": {
   "display_name": "Python 3",
   "language": "python",
   "name": "python3"
  },
  "language_info": {
   "codemirror_mode": {
    "name": "ipython",
    "version": 3
   },
   "file_extension": ".py",
   "mimetype": "text/x-python",
   "name": "python",
   "nbconvert_exporter": "python",
   "pygments_lexer": "ipython3",
   "version": "3.8.5"
  }
 },
 "nbformat": 4,
 "nbformat_minor": 2
}
