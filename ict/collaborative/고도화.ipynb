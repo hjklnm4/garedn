{
 "cells": [
  {
   "cell_type": "code",
   "execution_count": 35,
   "metadata": {},
   "outputs": [],
   "source": [
    "from scipy.sparse.linalg import svds\n",
    "import pandas as pd\n",
    "import numpy as np\n",
    "from sklearn.feature_extraction.text import CountVectorizer\n",
    "from sklearn.metrics.pairwise import cosine_similarity"
   ]
  },
  {
   "cell_type": "code",
   "execution_count": 36,
   "metadata": {},
   "outputs": [],
   "source": [
    "data = pd.read_excel(\"./printer_data (1).xlsx\")\n",
    "data2 = pd.read_excel(\"./user_data.xlsx\")\n",
    "data3 = "
   ]
  },
  {
   "cell_type": "code",
   "execution_count": null,
   "metadata": {},
   "outputs": [],
   "source": [
    "df = pd.DataFrame(columns=['근무자수','productid','급지용량','가격'])\n",
    "user_df = pd.DataFrame()\n",
    "\n",
    "for j in range(0,30):\n",
    "    for i in range(0,5901):\n",
    "        df = df.append({'productid':i+1, '근무자수':abs(data['근무자수'][i]-data2['근무자 수'][j]), '급지용량':abs(data['기본 급지용량'][i]-data2['용지사용량'][j]), '가격':abs(data['가격'][i]-data2['가격'][j]), '내구성' :abs(data['내구성'][i]-data2['내구성'][j]) }, ignore_index=True)\n",
    "    #printer_sim_df = pd.DataFrame(data=lis)\n",
    "    \n",
    "    temp = df.sort_values(by='근무자수', ascending=False).reset_index(drop=True)['근무자수'][j]\n",
    "    temp2 = df.sort_values(by='급지용량', ascending=False).reset_index(drop=True)['급지용량'][j]\n",
    "    temp3 = df.sort_values(by='가격', ascending=False).reset_index(drop=True)['가격'][j]\n",
    "    temp4 = df.sort_values(by='내구성', ascending=False).reset_index(drop=True)['내구성'][j]\n",
    "\n",
    "    df['worker_sim']= (temp - df['근무자수'])/temp\n",
    "    df['paper']= (temp2 - df['급지용량'])/temp2\n",
    "    df['price']= (temp3 - df['가격'])/temp3\n",
    "    df['durability'] = (temp4 - df['내구성'])/temp4\n",
    "                                                                                      \n",
    "                    \n",
    "    if data['업종'][j]==data2['업종'][j]:\n",
    "        user_df[j]= (df['worker_sim']+df['paper']+df['price']+df['durability']+1)/5\n",
    "    else:\n",
    "        user_df[j]= (df['worker_sim']+df['paper']+df['price']+df['durability'])/5\n"
   ]
  },
  {
   "cell_type": "code",
   "execution_count": 69,
   "metadata": {},
   "outputs": [
    {
     "data": {
      "text/html": [
       "<div>\n",
       "<style scoped>\n",
       "    .dataframe tbody tr th:only-of-type {\n",
       "        vertical-align: middle;\n",
       "    }\n",
       "\n",
       "    .dataframe tbody tr th {\n",
       "        vertical-align: top;\n",
       "    }\n",
       "\n",
       "    .dataframe thead th {\n",
       "        text-align: right;\n",
       "    }\n",
       "</style>\n",
       "<table border=\"1\" class=\"dataframe\">\n",
       "  <thead>\n",
       "    <tr style=\"text-align: right;\">\n",
       "      <th></th>\n",
       "      <th>근무자수</th>\n",
       "      <th>productid</th>\n",
       "      <th>급지용량</th>\n",
       "      <th>가격</th>\n",
       "      <th>worker_sim</th>\n",
       "      <th>paper</th>\n",
       "      <th>price</th>\n",
       "      <th>avg</th>\n",
       "    </tr>\n",
       "  </thead>\n",
       "  <tbody>\n",
       "    <tr>\n",
       "      <th>0</th>\n",
       "      <td>54</td>\n",
       "      <td>1</td>\n",
       "      <td>1203</td>\n",
       "      <td>6000000</td>\n",
       "      <td>0.44898</td>\n",
       "      <td>0.590955</td>\n",
       "      <td>0.684211</td>\n",
       "      <td>0.574715</td>\n",
       "    </tr>\n",
       "    <tr>\n",
       "      <th>1</th>\n",
       "      <td>10</td>\n",
       "      <td>2</td>\n",
       "      <td>213</td>\n",
       "      <td>5500000</td>\n",
       "      <td>0.897959</td>\n",
       "      <td>0.927576</td>\n",
       "      <td>0.710526</td>\n",
       "      <td>0.845354</td>\n",
       "    </tr>\n",
       "    <tr>\n",
       "      <th>2</th>\n",
       "      <td>35</td>\n",
       "      <td>3</td>\n",
       "      <td>973</td>\n",
       "      <td>4900000</td>\n",
       "      <td>0.642857</td>\n",
       "      <td>0.66916</td>\n",
       "      <td>0.742105</td>\n",
       "      <td>0.684708</td>\n",
       "    </tr>\n",
       "    <tr>\n",
       "      <th>3</th>\n",
       "      <td>8</td>\n",
       "      <td>4</td>\n",
       "      <td>303</td>\n",
       "      <td>4711290</td>\n",
       "      <td>0.918367</td>\n",
       "      <td>0.896974</td>\n",
       "      <td>0.752037</td>\n",
       "      <td>0.855793</td>\n",
       "    </tr>\n",
       "    <tr>\n",
       "      <th>4</th>\n",
       "      <td>63</td>\n",
       "      <td>5</td>\n",
       "      <td>153</td>\n",
       "      <td>4299940</td>\n",
       "      <td>0.357143</td>\n",
       "      <td>0.947977</td>\n",
       "      <td>0.773687</td>\n",
       "      <td>0.692936</td>\n",
       "    </tr>\n",
       "  </tbody>\n",
       "</table>\n",
       "</div>"
      ],
      "text/plain": [
       "  근무자수 productid  급지용량       가격 worker_sim     paper     price       avg\n",
       "0   54         1  1203  6000000    0.44898  0.590955  0.684211  0.574715\n",
       "1   10         2   213  5500000   0.897959  0.927576  0.710526  0.845354\n",
       "2   35         3   973  4900000   0.642857   0.66916  0.742105  0.684708\n",
       "3    8         4   303  4711290   0.918367  0.896974  0.752037  0.855793\n",
       "4   63         5   153  4299940   0.357143  0.947977  0.773687  0.692936"
      ]
     },
     "execution_count": 69,
     "metadata": {},
     "output_type": "execute_result"
    }
   ],
   "source": [
    "df.head()"
   ]
  },
  {
   "cell_type": "code",
   "execution_count": null,
   "metadata": {},
   "outputs": [],
   "source": [
    "user_df.head()"
   ]
  },
  {
   "cell_type": "code",
   "execution_count": null,
   "metadata": {},
   "outputs": [],
   "source": []
  },
  {
   "cell_type": "code",
   "execution_count": null,
   "metadata": {},
   "outputs": [],
   "source": []
  }
 ],
 "metadata": {
  "kernelspec": {
   "display_name": "Python 3",
   "language": "python",
   "name": "python3"
  },
  "language_info": {
   "codemirror_mode": {
    "name": "ipython",
    "version": 3
   },
   "file_extension": ".py",
   "mimetype": "text/x-python",
   "name": "python",
   "nbconvert_exporter": "python",
   "pygments_lexer": "ipython3",
   "version": "3.8.5"
  }
 },
 "nbformat": 4,
 "nbformat_minor": 4
}
