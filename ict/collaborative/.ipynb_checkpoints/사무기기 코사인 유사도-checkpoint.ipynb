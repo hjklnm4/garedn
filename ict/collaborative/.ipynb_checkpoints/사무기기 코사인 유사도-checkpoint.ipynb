{
 "cells": [
  {
   "cell_type": "code",
   "execution_count": 26,
   "metadata": {},
   "outputs": [],
   "source": [
    "# 4개 열 병합 -> 2만개 까지 cosine_similarity 가능, 전체 병합 -> 만개까지 가능\n",
    "# 중복된 값 너무 많이나와서 제거함 -> 데이터가 50만개 에서 59000개 됨"
   ]
  },
  {
   "cell_type": "code",
   "execution_count": 27,
   "metadata": {},
   "outputs": [],
   "source": [
    "import pandas as pd\n",
    "from sklearn.feature_extraction.text import CountVectorizer\n",
    "from sklearn.metrics.pairwise import cosine_similarity"
   ]
  },
  {
   "cell_type": "code",
   "execution_count": 28,
   "metadata": {},
   "outputs": [],
   "source": [
    "data = pd.read_excel(\"./printer_data_new.xlsx\")"
   ]
  },
  {
   "cell_type": "code",
   "execution_count": 29,
   "metadata": {},
   "outputs": [
    {
     "data": {
      "text/html": [
       "<div>\n",
       "<style scoped>\n",
       "    .dataframe tbody tr th:only-of-type {\n",
       "        vertical-align: middle;\n",
       "    }\n",
       "\n",
       "    .dataframe tbody tr th {\n",
       "        vertical-align: top;\n",
       "    }\n",
       "\n",
       "    .dataframe thead th {\n",
       "        text-align: right;\n",
       "    }\n",
       "</style>\n",
       "<table border=\"1\" class=\"dataframe\">\n",
       "  <thead>\n",
       "    <tr style=\"text-align: right;\">\n",
       "      <th></th>\n",
       "      <th>Unnamed: 0</th>\n",
       "      <th>상품명</th>\n",
       "      <th>가격</th>\n",
       "      <th>keyword</th>\n",
       "      <th>productid</th>\n",
       "      <th>업종</th>\n",
       "      <th>근무자수</th>\n",
       "      <th>기본 급지용량</th>\n",
       "      <th>내구성</th>\n",
       "    </tr>\n",
       "  </thead>\n",
       "  <tbody>\n",
       "    <tr>\n",
       "      <th>0</th>\n",
       "      <td>0</td>\n",
       "      <td>ApeosPort 2560</td>\n",
       "      <td>2125000</td>\n",
       "      <td>흑백 디지털 복합기  잉크젯  포토프린터  컬러 출력  복사  스캔  팩스  인쇄 ...</td>\n",
       "      <td>1</td>\n",
       "      <td>법</td>\n",
       "      <td>87</td>\n",
       "      <td>300</td>\n",
       "      <td>2</td>\n",
       "    </tr>\n",
       "    <tr>\n",
       "      <th>1</th>\n",
       "      <td>1</td>\n",
       "      <td>ApeosPort 3060</td>\n",
       "      <td>2200000</td>\n",
       "      <td>흑백 디지털 복합기  잉크젯  포토프린터  컬러 출력  복사  스캔  팩스  인쇄 ...</td>\n",
       "      <td>2</td>\n",
       "      <td>기타</td>\n",
       "      <td>23</td>\n",
       "      <td>1290</td>\n",
       "      <td>3</td>\n",
       "    </tr>\n",
       "    <tr>\n",
       "      <th>2</th>\n",
       "      <td>2</td>\n",
       "      <td>ApeosPort 3560</td>\n",
       "      <td>2528000</td>\n",
       "      <td>흑백 디지털 복합기  잉크젯  컬러 출력  복사  스캔  인쇄 해상도: 4,800d...</td>\n",
       "      <td>3</td>\n",
       "      <td>교육</td>\n",
       "      <td>68</td>\n",
       "      <td>530</td>\n",
       "      <td>2</td>\n",
       "    </tr>\n",
       "    <tr>\n",
       "      <th>3</th>\n",
       "      <td>3</td>\n",
       "      <td>ApeosPort C2060</td>\n",
       "      <td>2600000</td>\n",
       "      <td>컬러 디지털 복합기  인쇄  복사  스캔  컬러 속도: 23ppm  흑백 속도: 2...</td>\n",
       "      <td>4</td>\n",
       "      <td>행정</td>\n",
       "      <td>25</td>\n",
       "      <td>1200</td>\n",
       "      <td>3</td>\n",
       "    </tr>\n",
       "    <tr>\n",
       "      <th>4</th>\n",
       "      <td>4</td>\n",
       "      <td>ApeosPort C2560</td>\n",
       "      <td>2778170</td>\n",
       "      <td>컬러 디지털 복합기  인쇄  복사  스캔  팩스  컬러 속도: 23ppm  흑백 속...</td>\n",
       "      <td>5</td>\n",
       "      <td>행정</td>\n",
       "      <td>96</td>\n",
       "      <td>1350</td>\n",
       "      <td>2</td>\n",
       "    </tr>\n",
       "  </tbody>\n",
       "</table>\n",
       "</div>"
      ],
      "text/plain": [
       "   Unnamed: 0              상품명       가격  \\\n",
       "0           0   ApeosPort 2560  2125000   \n",
       "1           1   ApeosPort 3060  2200000   \n",
       "2           2   ApeosPort 3560  2528000   \n",
       "3           3  ApeosPort C2060  2600000   \n",
       "4           4  ApeosPort C2560  2778170   \n",
       "\n",
       "                                             keyword  productid  업종  근무자수  \\\n",
       "0  흑백 디지털 복합기  잉크젯  포토프린터  컬러 출력  복사  스캔  팩스  인쇄 ...          1   법    87   \n",
       "1  흑백 디지털 복합기  잉크젯  포토프린터  컬러 출력  복사  스캔  팩스  인쇄 ...          2  기타    23   \n",
       "2  흑백 디지털 복합기  잉크젯  컬러 출력  복사  스캔  인쇄 해상도: 4,800d...          3  교육    68   \n",
       "3  컬러 디지털 복합기  인쇄  복사  스캔  컬러 속도: 23ppm  흑백 속도: 2...          4  행정    25   \n",
       "4  컬러 디지털 복합기  인쇄  복사  스캔  팩스  컬러 속도: 23ppm  흑백 속...          5  행정    96   \n",
       "\n",
       "   기본 급지용량  내구성  \n",
       "0      300    2  \n",
       "1     1290    3  \n",
       "2      530    2  \n",
       "3     1200    3  \n",
       "4     1350    2  "
      ]
     },
     "execution_count": 29,
     "metadata": {},
     "output_type": "execute_result"
    }
   ],
   "source": [
    "data.head()"
   ]
  },
  {
   "cell_type": "code",
   "execution_count": 30,
   "metadata": {},
   "outputs": [
    {
     "data": {
      "text/plain": [
       "(5901, 9)"
      ]
     },
     "execution_count": 30,
     "metadata": {},
     "output_type": "execute_result"
    }
   ],
   "source": [
    "data.shape"
   ]
  },
  {
   "cell_type": "code",
   "execution_count": 33,
   "metadata": {},
   "outputs": [],
   "source": [
    "data = data.drop('Unnamed: 0',axis=1)"
   ]
  },
  {
   "cell_type": "code",
   "execution_count": 34,
   "metadata": {},
   "outputs": [
    {
     "data": {
      "text/html": [
       "<div>\n",
       "<style scoped>\n",
       "    .dataframe tbody tr th:only-of-type {\n",
       "        vertical-align: middle;\n",
       "    }\n",
       "\n",
       "    .dataframe tbody tr th {\n",
       "        vertical-align: top;\n",
       "    }\n",
       "\n",
       "    .dataframe thead th {\n",
       "        text-align: right;\n",
       "    }\n",
       "</style>\n",
       "<table border=\"1\" class=\"dataframe\">\n",
       "  <thead>\n",
       "    <tr style=\"text-align: right;\">\n",
       "      <th></th>\n",
       "      <th>상품명</th>\n",
       "      <th>가격</th>\n",
       "      <th>keyword</th>\n",
       "      <th>productid</th>\n",
       "      <th>업종</th>\n",
       "      <th>근무자수</th>\n",
       "      <th>기본 급지용량</th>\n",
       "      <th>내구성</th>\n",
       "    </tr>\n",
       "  </thead>\n",
       "  <tbody>\n",
       "    <tr>\n",
       "      <th>0</th>\n",
       "      <td>ApeosPort 2560</td>\n",
       "      <td>2125000</td>\n",
       "      <td>흑백 디지털 복합기  잉크젯  포토프린터  컬러 출력  복사  스캔  팩스  인쇄 ...</td>\n",
       "      <td>1</td>\n",
       "      <td>법</td>\n",
       "      <td>87</td>\n",
       "      <td>300</td>\n",
       "      <td>2</td>\n",
       "    </tr>\n",
       "    <tr>\n",
       "      <th>1</th>\n",
       "      <td>ApeosPort 3060</td>\n",
       "      <td>2200000</td>\n",
       "      <td>흑백 디지털 복합기  잉크젯  포토프린터  컬러 출력  복사  스캔  팩스  인쇄 ...</td>\n",
       "      <td>2</td>\n",
       "      <td>기타</td>\n",
       "      <td>23</td>\n",
       "      <td>1290</td>\n",
       "      <td>3</td>\n",
       "    </tr>\n",
       "  </tbody>\n",
       "</table>\n",
       "</div>"
      ],
      "text/plain": [
       "              상품명       가격                                            keyword  \\\n",
       "0  ApeosPort 2560  2125000  흑백 디지털 복합기  잉크젯  포토프린터  컬러 출력  복사  스캔  팩스  인쇄 ...   \n",
       "1  ApeosPort 3060  2200000  흑백 디지털 복합기  잉크젯  포토프린터  컬러 출력  복사  스캔  팩스  인쇄 ...   \n",
       "\n",
       "   productid  업종  근무자수  기본 급지용량  내구성  \n",
       "0          1   법    87      300    2  \n",
       "1          2  기타    23     1290    3  "
      ]
     },
     "execution_count": 34,
     "metadata": {},
     "output_type": "execute_result"
    }
   ],
   "source": [
    "data.head(2)"
   ]
  },
  {
   "cell_type": "code",
   "execution_count": 11,
   "metadata": {},
   "outputs": [],
   "source": []
  },
  {
   "cell_type": "code",
   "execution_count": 12,
   "metadata": {},
   "outputs": [],
   "source": []
  },
  {
   "cell_type": "code",
   "execution_count": 13,
   "metadata": {},
   "outputs": [],
   "source": []
  },
  {
   "cell_type": "code",
   "execution_count": 38,
   "metadata": {},
   "outputs": [
    {
     "data": {
      "text/plain": [
       "0    흑백 디지털 복합기  잉크젯  포토프린터  컬러 출력  복사  스캔  팩스  인쇄 ...\n",
       "1    흑백 디지털 복합기  잉크젯  포토프린터  컬러 출력  복사  스캔  팩스  인쇄 ...\n",
       "2    흑백 디지털 복합기  잉크젯  컬러 출력  복사  스캔  인쇄 해상도: 4,800d...\n",
       "3    컬러 디지털 복합기  인쇄  복사  스캔  컬러 속도: 23ppm  흑백 속도: 2...\n",
       "4    컬러 디지털 복합기  인쇄  복사  스캔  팩스  컬러 속도: 23ppm  흑백 속...\n",
       "Name: keyword, dtype: object"
      ]
     },
     "execution_count": 38,
     "metadata": {},
     "output_type": "execute_result"
    }
   ],
   "source": [
    "data['keyword'].head()"
   ]
  },
  {
   "cell_type": "code",
   "execution_count": null,
   "metadata": {},
   "outputs": [],
   "source": []
  },
  {
   "cell_type": "code",
   "execution_count": 39,
   "metadata": {},
   "outputs": [
    {
     "data": {
      "text/html": [
       "<div>\n",
       "<style scoped>\n",
       "    .dataframe tbody tr th:only-of-type {\n",
       "        vertical-align: middle;\n",
       "    }\n",
       "\n",
       "    .dataframe tbody tr th {\n",
       "        vertical-align: top;\n",
       "    }\n",
       "\n",
       "    .dataframe thead th {\n",
       "        text-align: right;\n",
       "    }\n",
       "</style>\n",
       "<table border=\"1\" class=\"dataframe\">\n",
       "  <thead>\n",
       "    <tr style=\"text-align: right;\">\n",
       "      <th></th>\n",
       "      <th>상품명</th>\n",
       "      <th>가격</th>\n",
       "      <th>keyword</th>\n",
       "      <th>productid</th>\n",
       "      <th>업종</th>\n",
       "      <th>근무자수</th>\n",
       "      <th>기본 급지용량</th>\n",
       "      <th>내구성</th>\n",
       "    </tr>\n",
       "  </thead>\n",
       "  <tbody>\n",
       "    <tr>\n",
       "      <th>0</th>\n",
       "      <td>ApeosPort 2560</td>\n",
       "      <td>2125000</td>\n",
       "      <td>흑백 디지털 복합기  잉크젯  포토프린터  컬러 출력  복사  스캔  팩스  인쇄 ...</td>\n",
       "      <td>1</td>\n",
       "      <td>법</td>\n",
       "      <td>87</td>\n",
       "      <td>300</td>\n",
       "      <td>2</td>\n",
       "    </tr>\n",
       "    <tr>\n",
       "      <th>1</th>\n",
       "      <td>ApeosPort 3060</td>\n",
       "      <td>2200000</td>\n",
       "      <td>흑백 디지털 복합기  잉크젯  포토프린터  컬러 출력  복사  스캔  팩스  인쇄 ...</td>\n",
       "      <td>2</td>\n",
       "      <td>기타</td>\n",
       "      <td>23</td>\n",
       "      <td>1290</td>\n",
       "      <td>3</td>\n",
       "    </tr>\n",
       "    <tr>\n",
       "      <th>2</th>\n",
       "      <td>ApeosPort 3560</td>\n",
       "      <td>2528000</td>\n",
       "      <td>흑백 디지털 복합기  잉크젯  컬러 출력  복사  스캔  인쇄 해상도: 4,800d...</td>\n",
       "      <td>3</td>\n",
       "      <td>교육</td>\n",
       "      <td>68</td>\n",
       "      <td>530</td>\n",
       "      <td>2</td>\n",
       "    </tr>\n",
       "  </tbody>\n",
       "</table>\n",
       "</div>"
      ],
      "text/plain": [
       "              상품명       가격                                            keyword  \\\n",
       "0  ApeosPort 2560  2125000  흑백 디지털 복합기  잉크젯  포토프린터  컬러 출력  복사  스캔  팩스  인쇄 ...   \n",
       "1  ApeosPort 3060  2200000  흑백 디지털 복합기  잉크젯  포토프린터  컬러 출력  복사  스캔  팩스  인쇄 ...   \n",
       "2  ApeosPort 3560  2528000  흑백 디지털 복합기  잉크젯  컬러 출력  복사  스캔  인쇄 해상도: 4,800d...   \n",
       "\n",
       "   productid  업종  근무자수  기본 급지용량  내구성  \n",
       "0          1   법    87      300    2  \n",
       "1          2  기타    23     1290    3  \n",
       "2          3  교육    68      530    2  "
      ]
     },
     "execution_count": 39,
     "metadata": {},
     "output_type": "execute_result"
    }
   ],
   "source": [
    "data.head(3)"
   ]
  },
  {
   "cell_type": "code",
   "execution_count": 40,
   "metadata": {},
   "outputs": [
    {
     "data": {
      "text/plain": [
       "(5901, 8)"
      ]
     },
     "execution_count": 40,
     "metadata": {},
     "output_type": "execute_result"
    }
   ],
   "source": [
    "data.shape"
   ]
  },
  {
   "cell_type": "code",
   "execution_count": 41,
   "metadata": {},
   "outputs": [],
   "source": [
    "# 1~3단어로 객체를 만들어주고 문자열을 숫자로 바꾸어 벡터화 시킴.\n",
    "vector = CountVectorizer(ngram_range=(1,3))"
   ]
  },
  {
   "cell_type": "code",
   "execution_count": 43,
   "metadata": {},
   "outputs": [],
   "source": [
    "vector_keyword = vector.fit_transform(data['keyword'])"
   ]
  },
  {
   "cell_type": "code",
   "execution_count": 44,
   "metadata": {},
   "outputs": [],
   "source": [
    "# keyword를 코사인 유사도로 유사도 측정\n",
    "keyword_c_sim = cosine_similarity(vector_keyword, vector_keyword).argsort()[:, ::-1]"
   ]
  },
  {
   "cell_type": "code",
   "execution_count": 45,
   "metadata": {},
   "outputs": [
    {
     "name": "stdout",
     "output_type": "stream",
     "text": [
      "  (0, 568)\t1\n",
      "  (0, 588)\t1\n",
      "  (0, 594)\t1\n",
      "  (0, 882)\t1\n",
      "  (0, 887)\t1\n",
      "  (0, 888)\t1\n",
      "  (0, 1018)\t1\n",
      "  (0, 1027)\t1\n",
      "  (0, 1028)\t1\n",
      "  (0, 1242)\t1\n",
      "  (0, 1243)\t1\n",
      "  (0, 1244)\t1\n",
      "  (0, 1245)\t1\n",
      "  (0, 1246)\t1\n",
      "  (0, 1247)\t1\n",
      "  (0, 1248)\t1\n",
      "  (0, 1249)\t1\n",
      "  (0, 1250)\t1\n",
      "  (0, 1251)\t1\n",
      "  (0, 1252)\t1\n",
      "  (0, 1253)\t1\n",
      "  (0, 1254)\t1\n",
      "  (0, 1255)\t1\n",
      "  (0, 1256)\t1\n",
      "  (0, 1257)\t1\n",
      "  :\t:\n",
      "  (5900, 2570)\t1\n",
      "  (5900, 2571)\t1\n",
      "  (5900, 2575)\t1\n",
      "  (5900, 2576)\t1\n",
      "  (5900, 2578)\t1\n",
      "  (5900, 2580)\t2\n",
      "  (5900, 2590)\t1\n",
      "  (5900, 2593)\t1\n",
      "  (5900, 2615)\t1\n",
      "  (5900, 2616)\t1\n",
      "  (5900, 2621)\t1\n",
      "  (5900, 2622)\t1\n",
      "  (5900, 2623)\t1\n",
      "  (5900, 2669)\t1\n",
      "  (5900, 2674)\t1\n",
      "  (5900, 2675)\t1\n",
      "  (5900, 2779)\t1\n",
      "  (5900, 2783)\t1\n",
      "  (5900, 2785)\t1\n",
      "  (5900, 2833)\t1\n",
      "  (5900, 2844)\t1\n",
      "  (5900, 2846)\t1\n",
      "  (5900, 2867)\t1\n",
      "  (5900, 2870)\t1\n",
      "  (5900, 2871)\t1\n"
     ]
    }
   ],
   "source": [
    "keyword_c_sim.shape\n",
    "print(vector_keyword)"
   ]
  },
  {
   "cell_type": "code",
   "execution_count": 30,
   "metadata": {},
   "outputs": [],
   "source": [
    "#상품 추천\n",
    "def get_recommend_list(df, title, top=30):\n",
    "    #특정 상품의 정보를가져온다.\n",
    "    target_index = df[df['상품명'] == title].index.values\n",
    "    \n",
    "    #비슷한 코사인 유사도를 가진 정보를 뽑아 1차원배열로 저장한다.\n",
    "    sim_index = keyword_c_sim[target_index, :top].reshape(-1)\n",
    "    #자기 자신은 제외한다.\n",
    "    sim_index = sim_index[sim_index != target_index]\n",
    "    \n",
    "    #dataframe으로 만들고 가장 비슷한 10개의 항목을 return 한다.\n",
    "    result = df.iloc[sim_index][:10]\n",
    "    return result"
   ]
  },
  {
   "cell_type": "code",
   "execution_count": 31,
   "metadata": {},
   "outputs": [
    {
     "data": {
      "text/html": [
       "<div>\n",
       "<style scoped>\n",
       "    .dataframe tbody tr th:only-of-type {\n",
       "        vertical-align: middle;\n",
       "    }\n",
       "\n",
       "    .dataframe tbody tr th {\n",
       "        vertical-align: top;\n",
       "    }\n",
       "\n",
       "    .dataframe thead th {\n",
       "        text-align: right;\n",
       "    }\n",
       "</style>\n",
       "<table border=\"1\" class=\"dataframe\">\n",
       "  <thead>\n",
       "    <tr style=\"text-align: right;\">\n",
       "      <th></th>\n",
       "      <th>상품명</th>\n",
       "      <th>가격</th>\n",
       "      <th>스펙 목록</th>\n",
       "      <th>keyword</th>\n",
       "    </tr>\n",
       "  </thead>\n",
       "  <tbody>\n",
       "    <tr>\n",
       "      <th>585</th>\n",
       "      <td>Canon iR2206F</td>\n",
       "      <td>786000</td>\n",
       "      <td>흑백 디지털 복합기</td>\n",
       "      <td>흑백 디지털 복합기  잉크젯  포토프린터  컬러 출력  복사  스캔  팩스  인쇄 ...</td>\n",
       "    </tr>\n",
       "    <tr>\n",
       "      <th>3614</th>\n",
       "      <td>Kyocera FS-1035MFP/DP</td>\n",
       "      <td>0</td>\n",
       "      <td>흑백 디지털 복합기</td>\n",
       "      <td>흑백 디지털 복합기  잉크젯  포토프린터  컬러 출력  복사  스캔  팩스  인쇄 ...</td>\n",
       "    </tr>\n",
       "    <tr>\n",
       "      <th>3655</th>\n",
       "      <td>Kyocera TASKalfa 4012i</td>\n",
       "      <td>2564000</td>\n",
       "      <td>흑백 디지털 복합기</td>\n",
       "      <td>흑백 디지털 복합기  잉크젯  포토프린터  컬러 출력  복사  스캔  팩스  인쇄 ...</td>\n",
       "    </tr>\n",
       "    <tr>\n",
       "      <th>618</th>\n",
       "      <td>Canon IR2425</td>\n",
       "      <td>1096380</td>\n",
       "      <td>흑백 디지털 복합기</td>\n",
       "      <td>흑백 디지털 복합기  잉크젯  포토프린터  컬러 출력  복사  스캔  팩스  인쇄 ...</td>\n",
       "    </tr>\n",
       "    <tr>\n",
       "      <th>660</th>\n",
       "      <td>Canon iR2525</td>\n",
       "      <td>1649990</td>\n",
       "      <td>흑백 디지털 복합기</td>\n",
       "      <td>흑백 디지털 복합기  잉크젯  포토프린터  컬러 출력  복사  스캔  팩스  인쇄 ...</td>\n",
       "    </tr>\n",
       "    <tr>\n",
       "      <th>130</th>\n",
       "      <td>Brother MFC-L6900DW</td>\n",
       "      <td>657720</td>\n",
       "      <td>흑백 디지털 복합기</td>\n",
       "      <td>흑백 디지털 복합기  잉크젯  포토프린터  컬러 출력  복사  스캔  팩스  인쇄 ...</td>\n",
       "    </tr>\n",
       "    <tr>\n",
       "      <th>372</th>\n",
       "      <td>Canon IR ADV DX C3725</td>\n",
       "      <td>2593940</td>\n",
       "      <td>컬러 디지털 복합기</td>\n",
       "      <td>컬러 디지털 복합기  잉크젯  포토프린터  컬러 출력  복사  스캔  팩스  인쇄 ...</td>\n",
       "    </tr>\n",
       "    <tr>\n",
       "      <th>41</th>\n",
       "      <td>ApeosPort-V C2275</td>\n",
       "      <td>0</td>\n",
       "      <td>컬러 디지털 복합기</td>\n",
       "      <td>컬러 디지털 복합기  잉크젯  포토프린터  컬러 출력  복사  스캔  팩스  인쇄 ...</td>\n",
       "    </tr>\n",
       "    <tr>\n",
       "      <th>427</th>\n",
       "      <td>Canon IR C3020</td>\n",
       "      <td>1624000</td>\n",
       "      <td>컬러 디지털 복합기</td>\n",
       "      <td>컬러 디지털 복합기  잉크젯  포토프린터  컬러 출력  복사  스캔  팩스  인쇄 ...</td>\n",
       "    </tr>\n",
       "    <tr>\n",
       "      <th>279</th>\n",
       "      <td>Canon IR ADV C3525(III)</td>\n",
       "      <td>2806000</td>\n",
       "      <td>컬러 디지털 복합기</td>\n",
       "      <td>컬러 디지털 복합기  잉크젯  포토프린터  컬러 출력  복사  스캔  팩스  인쇄 ...</td>\n",
       "    </tr>\n",
       "  </tbody>\n",
       "</table>\n",
       "</div>"
      ],
      "text/plain": [
       "                          상품명       가격        스펙 목록  \\\n",
       "585             Canon iR2206F   786000  흑백 디지털 복합기    \n",
       "3614    Kyocera FS-1035MFP/DP        0  흑백 디지털 복합기    \n",
       "3655   Kyocera TASKalfa 4012i  2564000  흑백 디지털 복합기    \n",
       "618              Canon IR2425  1096380  흑백 디지털 복합기    \n",
       "660              Canon iR2525  1649990  흑백 디지털 복합기    \n",
       "130       Brother MFC-L6900DW   657720  흑백 디지털 복합기    \n",
       "372     Canon IR ADV DX C3725  2593940  컬러 디지털 복합기    \n",
       "41          ApeosPort-V C2275        0  컬러 디지털 복합기    \n",
       "427            Canon IR C3020  1624000  컬러 디지털 복합기    \n",
       "279   Canon IR ADV C3525(III)  2806000  컬러 디지털 복합기    \n",
       "\n",
       "                                                keyword  \n",
       "585   흑백 디지털 복합기  잉크젯  포토프린터  컬러 출력  복사  스캔  팩스  인쇄 ...  \n",
       "3614  흑백 디지털 복합기  잉크젯  포토프린터  컬러 출력  복사  스캔  팩스  인쇄 ...  \n",
       "3655  흑백 디지털 복합기  잉크젯  포토프린터  컬러 출력  복사  스캔  팩스  인쇄 ...  \n",
       "618   흑백 디지털 복합기  잉크젯  포토프린터  컬러 출력  복사  스캔  팩스  인쇄 ...  \n",
       "660   흑백 디지털 복합기  잉크젯  포토프린터  컬러 출력  복사  스캔  팩스  인쇄 ...  \n",
       "130   흑백 디지털 복합기  잉크젯  포토프린터  컬러 출력  복사  스캔  팩스  인쇄 ...  \n",
       "372   컬러 디지털 복합기  잉크젯  포토프린터  컬러 출력  복사  스캔  팩스  인쇄 ...  \n",
       "41    컬러 디지털 복합기  잉크젯  포토프린터  컬러 출력  복사  스캔  팩스  인쇄 ...  \n",
       "427   컬러 디지털 복합기  잉크젯  포토프린터  컬러 출력  복사  스캔  팩스  인쇄 ...  \n",
       "279   컬러 디지털 복합기  잉크젯  포토프린터  컬러 출력  복사  스캔  팩스  인쇄 ...  "
      ]
     },
     "execution_count": 31,
     "metadata": {},
     "output_type": "execute_result"
    }
   ],
   "source": [
    "get_recommend_list(data, title='ApeosPort 2560')"
   ]
  }
 ],
 "metadata": {
  "kernelspec": {
   "display_name": "Python 3",
   "language": "python",
   "name": "python3"
  },
  "language_info": {
   "codemirror_mode": {
    "name": "ipython",
    "version": 3
   },
   "file_extension": ".py",
   "mimetype": "text/x-python",
   "name": "python",
   "nbconvert_exporter": "python",
   "pygments_lexer": "ipython3",
   "version": "3.8.5"
  }
 },
 "nbformat": 4,
 "nbformat_minor": 4
}
